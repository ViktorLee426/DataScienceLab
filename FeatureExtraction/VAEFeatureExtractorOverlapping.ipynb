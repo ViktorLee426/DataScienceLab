{
 "cells": [
  {
   "cell_type": "code",
   "execution_count": 1,
   "metadata": {},
   "outputs": [],
   "source": [
    "import numpy as np\n",
    "import pandas as pd\n",
    "import tensorflow as tf\n",
    "from tensorflow.keras import layers, Model\n"
   ]
  },
  {
   "cell_type": "code",
   "execution_count": 2,
   "metadata": {},
   "outputs": [],
   "source": [
    "import warnings\n",
    "warnings.filterwarnings(\"ignore\", category=UserWarning, module=\"openpyxl\")\n",
    "\n",
    "\n",
    "#########################Load the experiment result file#########################################\n",
    "# directory of the experiment result files\n",
    "outdir = '../../EPFLAerosenseData/EPFLAerosenseData/'\n",
    "#csv of experiments\n",
    "experiment_result = \"_DOE_Aerosense_Dynamic_Experiments_EPFL.xlsx\"\n",
    "\n",
    "attack0 = pd.read_excel(outdir+experiment_result, sheet_name='0_deg_angle_attack')\n",
    "attack8 = pd.read_excel(outdir+experiment_result, sheet_name='8_deg_angle_attack')\n",
    "\n",
    "relevant_attribute0 = [\"Experiment Number\", \"Zeroing\", \"Heaving frequency in [Hz],  from motor excitations\", \"Wind speed [m/s]\", \n",
    "                        \"Crack length [mm]\",  \"Concentrated mass [yes = 1, no = 0]\" ]\n",
    "\n",
    "relevant_attribute8 = [\"Experiment Number\",\"Zeroing\", \"Heaving frequency in [Hz],  from motor excitations\", \"Wind speed [m/s]\", \n",
    "                        \"Crack length [mm]\",  \"Concentrated mass\"  ]\n",
    "\n",
    "data_attack0 = attack0[relevant_attribute0]\n",
    "data_attack8 = attack8[relevant_attribute8]\n",
    "\n",
    "\n",
    "#######################  Load the time series data ###################################################\n",
    "\n",
    "dict_attack0 = data_attack0.to_dict(orient = \"records\")\n",
    "\n",
    "for i in dict_attack0:\n",
    "    exp_num = i[\"Experiment Number\"]    \n",
    "    \n",
    "    filename_pre = \"aoa_0deg_Exp_\"\n",
    "    if exp_num < 10:\n",
    "        filename_num = \"00\" + str(exp_num)\n",
    "    elif exp_num < 100:\n",
    "        filename_num = \"0\" + str(exp_num)\n",
    "    else:\n",
    "        filename_num = str(exp_num)        \n",
    "    filename_sub = \"_aerosense\"\n",
    "    complete_name = filename_pre + filename_num + filename_sub\n",
    "    complete_path = outdir +\"aerosense_aerodynamic_data/\" +  \"aoa_0deg/\" +complete_name + \"/\" + \"1_baros_p.csv\" \n",
    "    \n",
    "    csv_data = pd.read_csv(complete_path,header=None,skiprows=2)\n",
    "    i[\"csv_data\"] = csv_data.iloc[:-1,1:-1] #first column of time is not useful, last row maybe incomplete, las column is nan, drop them\n",
    "    i[\"csv_data\"] = i[\"csv_data\"].drop(columns=[23,37])    \n",
    "\n",
    "\n",
    "#######################  Dont use the zeroing experiments  ###################################################\n",
    "\n",
    "dic_attack0_filtered  = []\n",
    "dic_attack0_filtered_group_by = {}\n",
    "for i in dict_attack0:\n",
    "    if i[\"Zeroing\"] != \"zeroing\" and i[\"Wind speed [m/s]\"]!= 0: # only the expriments with heaving and wind\n",
    "        exp_num = i[\"Experiment Number\"]\n",
    "        #group by every 3 experiments\n",
    "        #every first 2 used for training and the 3rd for testing\n",
    "        if exp_num-1 not in dic_attack0_filtered_group_by:\n",
    "            dic_attack0_filtered_group_by[exp_num] = (exp_num, \"training\")\n",
    "        elif exp_num-1 in dic_attack0_filtered_group_by and exp_num-2  not in dic_attack0_filtered_group_by:\n",
    "            dic_attack0_filtered_group_by[exp_num] = (exp_num - 1,\"training\")\n",
    "        elif exp_num-1 in dic_attack0_filtered_group_by and exp_num-2  in dic_attack0_filtered_group_by:\n",
    "            dic_attack0_filtered_group_by[exp_num] = (exp_num -2, \"testing\")\n",
    "\n",
    "\n",
    "\n",
    "############################# Signal Windowing #############################################\n",
    "signal_windowing = []\n",
    "for i_key, i_value in dic_attack0_filtered_group_by.items():\n",
    "    exp_ind = i_key - 1 #to get the experiment  number\n",
    "    exp_i = dict_attack0[exp_ind] # get the whole dictionary of the corresponding experiment\n",
    "    df_csv_data = exp_i[\"csv_data\"]\n",
    "    df_csv_data = df_csv_data.iloc[2000:] # Drop the first 2000 rows    \n",
    "    num_rows_per_block = 2000# Calculate the number of rows in each of the 6 blocks\n",
    "    num_blocks = 6  #len(df) // num_rows_per_block\n",
    "    # Split the DataFrame into 6 blocks of 2000 rows each\n",
    "    total_number_rows = num_rows_per_block * num_blocks\n",
    "    start_block = [ i  for i in range(0,10001,1000)] #starting position of each block: [0, 1000, 2000, 3000, 4000, 5000, 6000, 7000, 8000, 9000, 10000]\n",
    "    end_block = [i + 2000 for i in start_block]\n",
    "    start_end_ind = [ (i,j) for i,j in zip(start_block, end_block)]\n",
    "    blocks = [df_csv_data.iloc[ind[0] : ind[1] ] for ind in start_end_ind]\n",
    "    for block_ind, block in enumerate(blocks):\n",
    "        window = {key: value for key, value in exp_i.items() if key != \"csv_data\"}         \n",
    "        window[\"block_ind\"] = block_ind\n",
    "        window[\"exp_group\"] = i_value[0]\n",
    "        window[\"training_or_testing\"] = i_value[1]\n",
    "        window[\"block\"] = block        \n",
    "        signal_windowing.append(window)\n",
    "\n",
    "windowing_list = []\n",
    "for i in signal_windowing:\n",
    "    windowing_list.append({ i_key: i_value for i_key, i_value in i.items() if i_key != \"block\"})\n",
    "windowing_df = pd.DataFrame(windowing_list)\n",
    "\n",
    "time_series_dict = {}\n",
    "n_total = len(signal_windowing)\n",
    "for i in range(n_total):\n",
    "    time_series_dict[i] = signal_windowing[i][\"block\"].to_dict(orient=\"series\")\n",
    "time_series_df = pd.DataFrame(time_series_dict).T\n",
    "\n",
    "#Concentrated mass changed to class 5\n",
    "for i in range(windowing_df.shape[0]):\n",
    "    if windowing_df.iloc[i,5] == 1:\n",
    "        windowing_df.iloc[i,4] = 25\n"
   ]
  },
  {
   "cell_type": "code",
   "execution_count": 3,
   "metadata": {},
   "outputs": [],
   "source": [
    "processed_data = []\n",
    "for index, row in time_series_df.iterrows():\n",
    "    experiment_data = []\n",
    "    # Iterate over each cell in the row\n",
    "    for cell in row:\n",
    "        # Convert the Pandas Series in each cell to a NumPy array and append to the experiment data\n",
    "        experiment_data.append(cell.to_numpy())\n",
    "    # Stack the sensor data for each experiment and append to the processed data\n",
    "    processed_data.append(np.stack(experiment_data, axis=0))\n",
    "data = np.array(processed_data)\n",
    "\n",
    "#normalize the data\n",
    "data = (data - data.min()) / (data.max() - data.min())"
   ]
  },
  {
   "cell_type": "code",
   "execution_count": 4,
   "metadata": {},
   "outputs": [],
   "source": [
    "import tensorflow as tf\n",
    "from tensorflow.keras import layers, Model\n",
    "\n",
    "class Sampling(layers.Layer):\n",
    "    def call(self, inputs):\n",
    "        z_mean, z_log_var = inputs\n",
    "        batch = tf.shape(z_mean)[0]\n",
    "        dim = tf.shape(z_mean)[1]\n",
    "        epsilon = tf.keras.backend.random_normal(shape=(batch, dim))\n",
    "        return z_mean + tf.exp(0.5 * z_log_var) * epsilon\n",
    "\n",
    "# Encoder\n",
    "latent_dim = 512\n",
    "\n",
    "encoder_inputs = layers.Input(shape=(38, 2000))\n",
    "x = layers.Flatten()(encoder_inputs)\n",
    "x = layers.Dense(1024, activation=\"relu\")(x)\n",
    "x = layers.Dense(512, activation=\"relu\")(x)  # Simplified layer\n",
    "z_mean = layers.Dense(latent_dim, name=\"z_mean\")(x)\n",
    "z_log_var = layers.Dense(latent_dim, name=\"z_log_var\")(x)\n",
    "z = Sampling()([z_mean, z_log_var])\n",
    "encoder = Model(encoder_inputs, [z_mean, z_log_var, z], name=\"encoder\")\n",
    "\n",
    "# Decoder\n",
    "latent_inputs = layers.Input(shape=(latent_dim,))\n",
    "x = layers.Dense(512, activation=\"relu\")(latent_inputs)  # Simplified layer\n",
    "x = layers.Dense(1024, activation=\"relu\")(x)\n",
    "x = layers.Dense(38 * 2000, activation=\"sigmoid\")(x)\n",
    "decoder_outputs = layers.Reshape((38, 2000))(x)\n",
    "decoder = Model(latent_inputs, decoder_outputs, name=\"decoder\")\n",
    "\n",
    "# VAE Model\n",
    "class VAE(Model):\n",
    "    def __init__(self, encoder, decoder, **kwargs):\n",
    "        super(VAE, self).__init__(**kwargs)\n",
    "        self.encoder = encoder\n",
    "        self.decoder = decoder\n",
    "\n",
    "    def train_step(self, data):\n",
    "        with tf.GradientTape() as tape:\n",
    "            z_mean, z_log_var, z = self.encoder(data)\n",
    "            reconstruction = self.decoder(z)\n",
    "            reconstruction_loss = tf.reduce_mean(\n",
    "                tf.keras.losses.mean_squared_error(data, reconstruction)\n",
    "            )\n",
    "            kl_loss = -0.5 * (1 + z_log_var - tf.square(z_mean) - tf.exp(z_log_var))\n",
    "            kl_loss = tf.reduce_mean(kl_loss)\n",
    "            total_loss = reconstruction_loss + kl_loss\n",
    "        grads = tape.gradient(total_loss, self.trainable_weights)\n",
    "        self.optimizer.apply_gradients(zip(grads, self.trainable_weights))\n",
    "        return {\n",
    "            \"loss\": total_loss,\n",
    "            \"reconstruction_loss\": reconstruction_loss,\n",
    "            \"kl_loss\": kl_loss,\n",
    "        }\n",
    "\n",
    "vae = VAE(encoder, decoder)\n"
   ]
  },
  {
   "cell_type": "code",
   "execution_count": 5,
   "metadata": {},
   "outputs": [
    {
     "name": "stdout",
     "output_type": "stream",
     "text": [
      "Epoch 1/20\n",
      "25/25 [==============================] - 16s 604ms/step - loss: 205639413815.5699 - reconstruction_loss: 0.0372 - kl_loss: 205639413815.5611\n",
      "Epoch 2/20\n",
      "25/25 [==============================] - 16s 628ms/step - loss: 10121.8347 - reconstruction_loss: 0.0027 - kl_loss: 10121.8323\n",
      "Epoch 3/20\n",
      "25/25 [==============================] - 15s 618ms/step - loss: 92.6883 - reconstruction_loss: 0.0025 - kl_loss: 92.6859\n",
      "Epoch 4/20\n",
      "25/25 [==============================] - 15s 605ms/step - loss: 57.7746 - reconstruction_loss: 0.0012 - kl_loss: 57.7735\n",
      "Epoch 5/20\n",
      "25/25 [==============================] - 15s 586ms/step - loss: 52.6225 - reconstruction_loss: 0.0011 - kl_loss: 52.6214\n",
      "Epoch 6/20\n",
      "25/25 [==============================] - 15s 588ms/step - loss: 49.4428 - reconstruction_loss: 9.3166e-04 - kl_loss: 49.4419\n",
      "Epoch 7/20\n",
      "25/25 [==============================] - 15s 588ms/step - loss: 46.4585 - reconstruction_loss: 0.0010 - kl_loss: 46.4575\n",
      "Epoch 8/20\n",
      "25/25 [==============================] - 15s 585ms/step - loss: 43.6860 - reconstruction_loss: 9.5563e-04 - kl_loss: 43.6851\n",
      "Epoch 9/20\n",
      "25/25 [==============================] - 15s 589ms/step - loss: 40.9950 - reconstruction_loss: 9.7249e-04 - kl_loss: 40.9941\n",
      "Epoch 10/20\n",
      "25/25 [==============================] - 15s 588ms/step - loss: 38.5512 - reconstruction_loss: 9.2049e-04 - kl_loss: 38.5502\n",
      "Epoch 11/20\n",
      "25/25 [==============================] - 15s 592ms/step - loss: 36.2335 - reconstruction_loss: 8.9244e-04 - kl_loss: 36.2327\n",
      "Epoch 12/20\n",
      "25/25 [==============================] - 15s 585ms/step - loss: 34.0163 - reconstruction_loss: 8.8396e-04 - kl_loss: 34.0155\n",
      "Epoch 13/20\n",
      "25/25 [==============================] - 15s 586ms/step - loss: 31.9880 - reconstruction_loss: 9.4971e-04 - kl_loss: 31.9870\n",
      "Epoch 14/20\n",
      "25/25 [==============================] - 15s 591ms/step - loss: 30.0902 - reconstruction_loss: 9.1697e-04 - kl_loss: 30.0893\n",
      "Epoch 15/20\n",
      "25/25 [==============================] - 15s 587ms/step - loss: 28.3330 - reconstruction_loss: 8.6054e-04 - kl_loss: 28.3321\n",
      "Epoch 16/20\n",
      "25/25 [==============================] - 15s 585ms/step - loss: 26.7280 - reconstruction_loss: 8.6552e-04 - kl_loss: 26.7271\n",
      "Epoch 17/20\n",
      "25/25 [==============================] - 15s 588ms/step - loss: 25.2066 - reconstruction_loss: 8.4714e-04 - kl_loss: 25.2057\n",
      "Epoch 18/20\n",
      "25/25 [==============================] - 15s 603ms/step - loss: 23.7976 - reconstruction_loss: 8.3789e-04 - kl_loss: 23.7968\n",
      "Epoch 19/20\n",
      "25/25 [==============================] - 14s 580ms/step - loss: 22.4616 - reconstruction_loss: 9.1336e-04 - kl_loss: 22.4607\n",
      "Epoch 20/20\n",
      "25/25 [==============================] - 15s 583ms/step - loss: 21.2685 - reconstruction_loss: 8.4391e-04 - kl_loss: 21.2676\n"
     ]
    },
    {
     "data": {
      "text/plain": [
       "<keras.src.callbacks.History at 0x2973581fc10>"
      ]
     },
     "execution_count": 5,
     "metadata": {},
     "output_type": "execute_result"
    }
   ],
   "source": [
    "# Adjust the learning rate\n",
    "opt = tf.keras.optimizers.Adam(learning_rate=0.0005)\n",
    "vae.compile(optimizer=opt)\n",
    "vae.fit(data, epochs=20, batch_size=32)  # You can adjust epochs and batch size as needed\n"
   ]
  },
  {
   "cell_type": "code",
   "execution_count": 6,
   "metadata": {},
   "outputs": [
    {
     "name": "stdout",
     "output_type": "stream",
     "text": [
      "25/25 [==============================] - 1s 33ms/step\n"
     ]
    }
   ],
   "source": [
    "latent_features = encoder.predict(data)[0]  # Extracts the mean (z_mean) as the feature representation\n"
   ]
  },
  {
   "cell_type": "code",
   "execution_count": 7,
   "metadata": {},
   "outputs": [
    {
     "data": {
      "text/plain": [
       "(792, 512)"
      ]
     },
     "execution_count": 7,
     "metadata": {},
     "output_type": "execute_result"
    }
   ],
   "source": [
    "latent_features.shape"
   ]
  },
  {
   "cell_type": "code",
   "execution_count": 8,
   "metadata": {},
   "outputs": [],
   "source": [
    "X_new = pd.DataFrame(latent_features)\n",
    "X_plus = windowing_df[[\"Heaving frequency in [Hz],  from motor excitations\",\"Wind speed [m/s]\" ]]\n",
    "X = pd.concat([X_plus,X_new],axis=1)\n",
    "y = windowing_df[\"Crack length [mm]\"]/5"
   ]
  },
  {
   "cell_type": "code",
   "execution_count": 9,
   "metadata": {},
   "outputs": [],
   "source": [
    "X_train = X[windowing_df[\"training_or_testing\"] == \"training\"]\n",
    "X_test = X[windowing_df[\"training_or_testing\"] == \"testing\"]\n",
    "y_train = y[windowing_df[\"training_or_testing\"] == \"training\"]\n",
    "y_test = y[windowing_df[\"training_or_testing\"] == \"testing\"]"
   ]
  },
  {
   "cell_type": "code",
   "execution_count": 10,
   "metadata": {},
   "outputs": [],
   "source": [
    "X_train.to_csv(\"../data/VAEExtractorOverlapping/X_train.csv\",index=False)\n",
    "X_test.to_csv(\"../data/VAEExtractorOverlapping/X_test.csv\",index=False)\n",
    "y_train.to_csv(\"../data/VAEExtractorOverlapping/y_train.csv\",index=False)\n",
    "y_test.to_csv(\"../data/VAEExtractorOverlapping/y_test.csv\",index=False)"
   ]
  },
  {
   "cell_type": "code",
   "execution_count": null,
   "metadata": {},
   "outputs": [],
   "source": []
  }
 ],
 "metadata": {
  "kernelspec": {
   "display_name": "base",
   "language": "python",
   "name": "python3"
  },
  "language_info": {
   "codemirror_mode": {
    "name": "ipython",
    "version": 3
   },
   "file_extension": ".py",
   "mimetype": "text/x-python",
   "name": "python",
   "nbconvert_exporter": "python",
   "pygments_lexer": "ipython3",
   "version": "3.11.5"
  }
 },
 "nbformat": 4,
 "nbformat_minor": 2
}
